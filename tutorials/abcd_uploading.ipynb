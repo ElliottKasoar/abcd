{
 "cells": [
  {
   "cell_type": "markdown",
   "metadata": {},
   "source": [
    "# Basic usage of ABCD database"
   ]
  },
  {
   "cell_type": "code",
   "execution_count": 1,
   "metadata": {},
   "outputs": [],
   "source": [
    "# %load_ext autoreload\n",
    "# %autoreload 2"
   ]
  },
  {
   "cell_type": "code",
   "execution_count": 9,
   "metadata": {
    "scrolled": true
   },
   "outputs": [],
   "source": [
    "import sys\n",
    "sys.path.append('..')"
   ]
  },
  {
   "cell_type": "code",
   "execution_count": 10,
   "metadata": {
    "scrolled": true
   },
   "outputs": [],
   "source": [
    "import numpy as np\n",
    "import matplotlib.pyplot as plt\n",
    "\n",
    "from pathlib import Path\n",
    "\n",
    "from ase.io import iread, read\n",
    "from utils.ext_xyz import XYZReader\n",
    "\n",
    "from abcd import ABCD"
   ]
  },
  {
   "cell_type": "markdown",
   "metadata": {},
   "source": [
    "First of all, we need to define the url of the database. It could be local or remote:\n",
    "\n",
    "- direct access: url = 'mongodb://localhost:27017'\n",
    "- api access: url = 'http://localhost/api'\n",
    "\n",
    "using with statement to catch the riased exceptions. You may can ignore them  but in that case need to handle all the unexpected events. (cannot connect to db, lost connection, wrong filter, wrong url, etc. )"
   ]
  },
  {
   "cell_type": "code",
   "execution_count": 11,
   "metadata": {},
   "outputs": [
    {
     "name": "stdout",
     "output_type": "stream",
     "text": [
      "MongoDatabase(url=localhost:27017, db=abcd, collection=atoms)\n"
     ]
    }
   ],
   "source": [
    "url = 'mongodb://localhost:27017'\n",
    "abcd =  ABCD(url)\n",
    "\n",
    "print(abcd)"
   ]
  },
  {
   "cell_type": "code",
   "execution_count": 12,
   "metadata": {},
   "outputs": [
    {
     "name": "stdout",
     "output_type": "stream",
     "text": [
      "================== ABCD MongoDB ==================\n",
      "      type: mongodb\n",
      "      host: localhost\n",
      "      port: 27017\n",
      "        db: abcd\n",
      "collection: atoms\n",
      "number of confs: 5195\n"
     ]
    }
   ],
   "source": [
    "abcd.print_info()"
   ]
  },
  {
   "cell_type": "markdown",
   "metadata": {},
   "source": [
    "## Cleanup \n",
    "\n",
    "WARNING!! Remove all elements from the database.\n",
    "Only supported in the case of local access"
   ]
  },
  {
   "cell_type": "code",
   "execution_count": 13,
   "metadata": {},
   "outputs": [],
   "source": [
    "with abcd as db:\n",
    "    db.destroy()"
   ]
  },
  {
   "cell_type": "markdown",
   "metadata": {},
   "source": [
    "## Uploading configurations"
   ]
  },
  {
   "cell_type": "code",
   "execution_count": 23,
   "metadata": {},
   "outputs": [],
   "source": [
    "\n",
    "\n",
    "direcotry = Path('data/')\n",
    "file = direcotry / 'bcc_bulk_54_expanded_2_high.xyz'\n",
    "# file = direcotry / 'GAP_1.xyz'"
   ]
  },
  {
   "cell_type": "markdown",
   "metadata": {},
   "source": [
    "Uploading configurations on-by-one directly from an ase atoms object:"
   ]
  },
  {
   "cell_type": "code",
   "execution_count": 9,
   "metadata": {},
   "outputs": [
    {
     "name": "stdout",
     "output_type": "stream",
     "text": [
      "CPU times: user 1.73 s, sys: 80.7 ms, total: 1.81 s\n",
      "Wall time: 2.14 s\n"
     ]
    }
   ],
   "source": [
    "%%time\n",
    "with abcd as db:\n",
    "\n",
    "    for atoms in iread(file.as_posix(), index=slice(None)):\n",
    "        \n",
    "        # Hack to fix the representation of forces\n",
    "        \n",
    "        atoms.calc.results['forces'] = atoms.arrays['force']\n",
    "        del(atoms.arrays['force'])\n",
    "            \n",
    "        db.push(atoms)\n",
    "    "
   ]
  },
  {
   "cell_type": "markdown",
   "metadata": {},
   "source": [
    "Reading the trajectory from file:"
   ]
  },
  {
   "cell_type": "code",
   "execution_count": 10,
   "metadata": {},
   "outputs": [
    {
     "name": "stdout",
     "output_type": "stream",
     "text": [
      "CPU times: user 1.03 s, sys: 36.6 ms, total: 1.07 s\n",
      "Wall time: 1.14 s\n"
     ]
    }
   ],
   "source": [
    "%%time\n",
    "traj = read(file.as_posix(), index=slice(None))\n",
    "len(traj)"
   ]
  },
  {
   "cell_type": "code",
   "execution_count": 11,
   "metadata": {},
   "outputs": [
    {
     "name": "stdout",
     "output_type": "stream",
     "text": [
      "CPU times: user 471 ms, sys: 21.1 ms, total: 492 ms\n",
      "Wall time: 510 ms\n"
     ]
    }
   ],
   "source": [
    "%%time\n",
    "with XYZReader(file) as reader:\n",
    "    traj = list(reader.read_atoms(forces_label='force'))\n"
   ]
  },
  {
   "cell_type": "markdown",
   "metadata": {},
   "source": [
    "Pushing the whole trajectory to the database:"
   ]
  },
  {
   "cell_type": "code",
   "execution_count": 12,
   "metadata": {},
   "outputs": [
    {
     "name": "stdout",
     "output_type": "stream",
     "text": [
      "CPU times: user 193 ms, sys: 7.76 ms, total: 200 ms\n",
      "Wall time: 225 ms\n"
     ]
    }
   ],
   "source": [
    "%%time\n",
    "db.push(traj)"
   ]
  },
  {
   "cell_type": "markdown",
   "metadata": {},
   "source": [
    "Uploading a whole file and injecting to the database on the server side:"
   ]
  },
  {
   "cell_type": "code",
   "execution_count": 13,
   "metadata": {},
   "outputs": [
    {
     "name": "stdout",
     "output_type": "stream",
     "text": [
      "CPU times: user 1.41 s, sys: 44.1 ms, total: 1.45 s\n",
      "Wall time: 1.56 s\n"
     ]
    }
   ],
   "source": [
    "%%time\n",
    "with abcd as db:\n",
    "    db.upload(file.as_posix())"
   ]
  },
  {
   "cell_type": "markdown",
   "metadata": {},
   "source": [
    "An alternative way to upload file to database:"
   ]
  },
  {
   "cell_type": "code",
   "execution_count": 14,
   "metadata": {},
   "outputs": [
    {
     "name": "stdout",
     "output_type": "stream",
     "text": [
      "CPU times: user 508 ms, sys: 7.69 ms, total: 515 ms\n",
      "Wall time: 531 ms\n"
     ]
    }
   ],
   "source": [
    "%%time\n",
    "with abcd as db, XYZReader(file) as reader:\n",
    "    db.push(reader.read_atoms(forces_label='force'))"
   ]
  },
  {
   "cell_type": "code",
   "execution_count": 15,
   "metadata": {},
   "outputs": [
    {
     "data": {
      "text/plain": [
       "{'host': 'localhost',\n",
       " 'port': 27017,\n",
       " 'db': 'abcd',\n",
       " 'collection': 'atoms',\n",
       " 'number of confs': 8000}"
      ]
     },
     "execution_count": 15,
     "metadata": {},
     "output_type": "execute_result"
    }
   ],
   "source": [
    "abcd.info()"
   ]
  },
  {
   "cell_type": "code",
   "execution_count": null,
   "metadata": {},
   "outputs": [],
   "source": []
  },
  {
   "cell_type": "code",
   "execution_count": null,
   "metadata": {
    "scrolled": false
   },
   "outputs": [],
   "source": []
  },
  {
   "cell_type": "markdown",
   "metadata": {},
   "source": [
    "## Uploading\n"
   ]
  },
  {
   "cell_type": "code",
   "execution_count": 14,
   "metadata": {},
   "outputs": [
    {
     "name": "stdout",
     "output_type": "stream",
     "text": [
      "data/bcc_quadvacancy_124_high.xyz\n",
      "data/bcc_bulk_54_high.xyz\n",
      "data/bcc_monovacancy_53_high.xyz\n",
      "data/bcc_bulk_54_expanded_high.xyz\n",
      "data/bcc_doublevacancy_126_2NN_high.xyz\n",
      "data/bcc_primitive_high.xyz\n",
      "data/bcc_bulk_128_expanded_high.xyz\n",
      "data/GAP_3.xyz\n",
      "data/Fe_bcc_bulk_vac_multivac_surf_gamma_int_diint.xyz\n",
      "data/GAP_2.xyz\n",
      "data/bcc_trivacancy_111_125_high.xyz\n",
      "data/GAP_1.xyz\n",
      "data/GAP_5.xyz\n",
      "data/GAP_4.xyz\n",
      "data/bcc_primitive_contracted_high.xyz\n",
      "data/GAP_6.xyz\n",
      "data/bcc_self_di_interstitial_npc_130_high.xyz\n",
      "data/bcc_trivacancy_110_125_high.xyz\n",
      "data/bcc_bulk_54_expanded_2_high.xyz\n",
      "data/bcc_trivacancy_100_125_high.xyz\n",
      "data/bcc_quinvacancy_123_high.xyz\n",
      "data/bcc_bulk_128_high.xyz\n",
      "data/bcc_primitive_expanded_high.xyz\n",
      "data/bcc_monovacancy_127_high.xyz\n",
      "data/bcc_surface.xyz\n",
      "data/bcc_gamma_surface.xyz\n",
      "data/bcc_doublevacancy_126_high.xyz\n",
      "data/bcc_self_interstitial_high.xyz\n",
      "data/bcc_doublevacancy_126_1NN_high.xyz\n"
     ]
    }
   ],
   "source": [
    "for file in Path('data/').glob('*.xyz'):\n",
    "    print(file)\n",
    "#     with abcd as db, XYZReader(file) as reader:\n",
    "#         db.push(reader.read_atoms())\n",
    "        \n",
    "    traj = read(file.as_posix(), index=slice(None))\n",
    "    db.push(traj)"
   ]
  },
  {
   "cell_type": "code",
   "execution_count": 15,
   "metadata": {
    "scrolled": false
   },
   "outputs": [
    {
     "name": "stdout",
     "output_type": "stream",
     "text": [
      "GB_alphaFe_001/tilt/00183979100_v6bxv2_tv0.3bxv0.3_d1.4z_traj.xyz\n",
      "GB_alphaFe_001/tilt/0014111380_v6bxv2_tv0.1bxv0.1_d1.6z_traj.xyz\n",
      "GB_alphaFe_001/tilt/0014640370_v6bxv2_tv0.2bxv0.4_d1.8z_traj.xyz\n",
      "GB_alphaFe_001/tilt/001860514150_v6bxv2_tv0.2bxv0.3_d1.4z_traj.xyz\n",
      "GB_alphaFe_001/tilt/0016738230_v6bxv2_tv0.1bxv0.0_d1.6z_traj.xyz\n",
      "GB_alphaFe_001/tilt/0012807140_v6bxv2_tv0.4bxv0.0_d1.8z_traj.xyz\n",
      "GB_alphaFe_001/tilt/00195301120_v6bxv2_tv0.4bxv0.3_d1.9z_traj.xyz\n",
      "GB_alphaFe_001/tilt/00150037150_v6bxv2_tv0.0bxv0.2_d1.5z_traj.xyz\n",
      "GB_alphaFe_001/tilt/0015811590_v6bxv2_tv0.4bxv0.4_d1.6z_traj.xyz\n",
      "GB_alphaFe_001/tilt/0017374340_v6bxv2_tv0.4bxv0.0_d1.7z_traj.xyz\n",
      "GB_alphaFe_001/tilt/00148895110_v6bxv2_tv0.4bxv0.2_d1.6z_traj.xyz\n",
      "GB_alphaFe_001/tilt/00125993130_v6bxv2_tv0.2bxv0.2_d1.7z_traj.xyz\n",
      "GB_alphaFe_001/tilt/0017732450_v6bxv2_tv0.2bxv0.1_d1.9z_traj.xyz\n",
      "GB_alphaFe_001/tilt/0016193350_v6bxv2_tv0.4bxv0.4_d2.0z_traj.xyz\n",
      "GB_alphaFe_001/tilt/00147267160_v6bxv2_tv0.4bxv0.4_d1.6z_traj.xyz\n",
      "GB_alphaFe_001/tilt/00133403100_v6bxv2_tv0.3bxv0.1_d1.6z_traj.xyz\n",
      "GB_alphaFe_001/tilt/00134214130_v6bxv2_tv0.2bxv0.3_d1.4z_traj.xyz\n",
      "GB_alphaFe_001/tilt/0011268190_v6bxv2_tv0.1bxv0.1_d2.0z_traj.xyz\n",
      "GB_alphaFe_001/tilt/0013687130_v6bxv2_tv0.1bxv0.0_d1.8z_traj.xyz\n",
      "GB_alphaFe_001/tilt/00139315140_v6bxv2_tv0.0bxv0.0_d2.2z_traj.xyz\n",
      "GB_alphaFe_001/tilt/00120612110_v6bxv2_tv0.2bxv0.4_d2.1z_traj.xyz\n",
      "GB_alphaFe_001/tilt/0018801130_v6bxv2_tv0.4bxv0.3_d1.5z_traj.xyz\n",
      "GB_alphaFe_001/tilt/00164947110_v6bxv2_tv0.3bxv0.2_d1.4z_traj.xyz\n",
      "GB_alphaFe_001/tilt/00130513110_v6bxv2_tv0.1bxv0.1_d1.6z_traj.xyz\n",
      "GB_alphaFe_001/tilt/001850211120_v6bxv2_tv0.3bxv0.4_d1.4z_traj.xyz\n",
      "GB_alphaFe_001/tilt/0012262150_v6bxv2_tv0.4bxv0.3_d2.1z_traj.xyz\n",
      "GB_alphaFe_001/tilt/0013189270_v6bxv2_tv0.3bxv0.3_d1.5z_traj.xyz\n",
      "GB_alphaFe_001/tilt/00171501160_v6bxv2_tv0.4bxv0.1_d1.4z_traj.xyz\n",
      "GB_alphaFe_001/tilt/0018120670_v6bxv2_tv0.1bxv0.3_d1.5z_traj.xyz\n",
      "GB_alphaFe_001/tilt/0015313120_v6bxv2_tv0.4bxv0.1_d1.4z_traj.xyz\n",
      "GB_alphaFe_001/tilt/0012506290_v6bxv2_tv0.3bxv0.5_d1.8z_traj.xyz\n",
      "GB_alphaFe_001/tilt/001857613140_v6bxv2_tv0.2bxv0.4_d1.4z_traj.xyz\n",
      "GB_alphaFe_001/tilt/00117492130_v6bxv2_tv0.4bxv0.4_d1.5z_traj.xyz\n",
      "GB_alphaFe_001/tilt/00121243160_v6bxv2_tv0.3bxv0.1_d1.7z_traj.xyz\n",
      "GB_alphaFe_001/tilt/0017108570_v6bxv2_tv0.2bxv0.5_d1.7z_traj.xyz\n",
      "GB_alphaFe_001/tilt/001854212130_v6bxv2_tv0.3bxv0.4_d1.4z_traj.xyz\n",
      "GB_alphaFe_001/tilt/001845510110_v6bxv2_tv0.2bxv0.3_d1.5z_traj.xyz\n",
      "GB_alphaFe_001/tilt/001725111150_v6bxv2_tv0.2bxv0.3_d1.6z_traj.xyz\n",
      "GB_alphaFe_001/tilt/0018327890_v6bxv2_tv0.3bxv0.4_d1.6z_traj.xyz\n",
      "GB_alphaFe_001/tilt/0014360250_v6bxv2_tv0.1bxv0.0_d2.2z_traj.xyz\n",
      "GB_alphaFe_001/tilt/00115192150_v6bxv2_tv0.1bxv0.2_d1.8z_traj.xyz\n",
      "GB_alphaFe_001/tilt/0019000110_v6bxv2_tv0.1bxv0.0_d1.7z_traj.xyz\n",
      "GB_alphaFe_001/tilt/001863015160_v6bxv2_tv0.2bxv0.3_d1.5z_traj.xyz\n",
      "GB_alphaFe_001/tilt/00181701140_v6bxv2_tv0.2bxv0.1_d1.4z_traj.xyz\n",
      "GB_alphaFe_001/tilt/00178589110_v6bxv2_tv0.3bxv0.2_d1.4z_traj.xyz\n",
      "GB_alphaFe_001/tilt/00110391110_v6bxv2_tv0.4bxv0.2_d1.6z_traj.xyz\n",
      "GB_alphaFe_001/tilt/001804711130_v6bxv2_tv0.2bxv0.5_d1.9z_traj.xyz\n",
      "GB_alphaFe_001/tilt/00134715160_v6bxv2_tv0.2bxv0.4_d1.4z_traj.xyz\n",
      "GB_alphaFe_001/tilt/00124193140_v6bxv2_tv0.4bxv0.4_d1.5z_traj.xyz\n",
      "GB_alphaFe_001/tilt/0011425180_v6bxv2_tv0.3bxv0.2_d1.6z_traj.xyz\n",
      "GB_alphaFe_001/tilt/0014792490_v6bxv2_tv0.0bxv0.3_d1.6z_traj.xyz\n",
      "GB_alphaFe_001/tilt/0011892160_v6bxv2_tv0.2bxv0.2_d1.7z_traj.xyz\n",
      "GB_alphaFe_001/tilt/00149556130_v6bxv2_tv0.3bxv0.2_d1.6z_traj.xyz\n",
      "GB_alphaFe_001/tilt/00176301150_v6bxv2_tv0.4bxv0.1_d1.4z_traj.xyz\n",
      "GB_alphaFe_001/tilt/0017961560_v6bxv2_tv0.4bxv0.1_d2.2z_traj.xyz\n",
      "GB_alphaFe_001/tilt/00145245120_v6bxv2_tv0.3bxv0.2_d1.7z_traj.xyz\n",
      "GB_alphaFe_001/tilt/0017575790_v6bxv2_tv0.3bxv0.2_d1.4z_traj.xyz\n",
      "GB_alphaFe_001/tilt/0011626170_v6bxv2_tv0.3bxv0.4_d1.9z_traj.xyz\n",
      "GB_alphaFe_001/tilt/001818313150_v6bxv2_tv0.2bxv0.5_d2.0z_traj.xyz\n",
      "GB_alphaFe_001/tilt/00169399130_v6bxv2_tv0.2bxv0.1_d1.5z_traj.xyz\n",
      "GB_alphaFe_001/tilt/00111421100_v6bxv2_tv0.0bxv0.2_d2.1z_traj.xyz\n",
      "GB_alphaFe_001/tilt/0018237780_v6bxv2_tv0.2bxv0.4_d1.4z_traj.xyz\n"
     ]
    }
   ],
   "source": [
    "for file in Path('GB_alphaFe_001/tilt/').glob('*.xyz'):\n",
    "    print(file)\n",
    "    gb_params = {\n",
    "        'name': 'alphaFe',\n",
    "        'type': 'tilt',\n",
    "        'params': file.name[:-4]\n",
    "        \n",
    "    }    \n",
    "\n",
    "    traj = read(file.as_posix(), index=slice(None))\n",
    "    db.push(traj, extra_info={'GB_params': gb_params})"
   ]
  },
  {
   "cell_type": "code",
   "execution_count": null,
   "metadata": {},
   "outputs": [],
   "source": [
    "#     with abcd as db, XYZReader(file) as reader:\n",
    "#         db.push(reader.read_atoms(), extra_info={'GB_params': gb_params})\n"
   ]
  },
  {
   "cell_type": "code",
   "execution_count": null,
   "metadata": {},
   "outputs": [],
   "source": []
  }
 ],
 "metadata": {
  "kernelspec": {
   "display_name": "Python 3",
   "language": "python",
   "name": "python3"
  },
  "language_info": {
   "codemirror_mode": {
    "name": "ipython",
    "version": 3
   },
   "file_extension": ".py",
   "mimetype": "text/x-python",
   "name": "python",
   "nbconvert_exporter": "python",
   "pygments_lexer": "ipython3",
   "version": "3.6.7"
  }
 },
 "nbformat": 4,
 "nbformat_minor": 2
}
