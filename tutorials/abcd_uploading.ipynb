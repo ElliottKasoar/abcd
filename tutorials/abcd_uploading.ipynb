{
 "cells": [
  {
   "cell_type": "markdown",
   "metadata": {},
   "source": [
    "# Basic usage of ABCD database"
   ]
  },
  {
   "cell_type": "code",
   "execution_count": 1,
   "metadata": {},
   "outputs": [],
   "source": [
    "%load_ext autoreload\n",
    "%autoreload 2"
   ]
  },
  {
   "cell_type": "code",
   "execution_count": 2,
   "metadata": {
    "scrolled": true
   },
   "outputs": [],
   "source": [
    "import sys\n",
    "sys.path.append('..')"
   ]
  },
  {
   "cell_type": "code",
   "execution_count": 3,
   "metadata": {
    "scrolled": true
   },
   "outputs": [],
   "source": [
    "import numpy as np\n",
    "import matplotlib.pyplot as plt\n",
    "\n",
    "from pathlib import Path\n",
    "\n",
    "from ase.io import iread, read\n",
    "from utils.ext_xyz import XYZReader\n",
    "\n",
    "from abcd import ABCD"
   ]
  },
  {
   "cell_type": "markdown",
   "metadata": {},
   "source": [
    "First of all, we need to define the url of the database. It could be local or remote:\n",
    "\n",
    "- direct access: url = 'mongodb://localhost:27017'\n",
    "- api access: url = 'http://localhost/api'\n",
    "\n",
    "using with statement to catch the riased exceptions. You may can ignore them  but in that case need to handle all the unexpected events. (cannot connect to db, lost connection, wrong filter, wrong url, etc. )"
   ]
  },
  {
   "cell_type": "code",
   "execution_count": 12,
   "metadata": {},
   "outputs": [
    {
     "data": {
      "text/plain": [
       "MongoClient(host=['localhost:27017'], document_class=dict, tz_aware=False, connect=True)"
      ]
     },
     "execution_count": 12,
     "metadata": {},
     "output_type": "execute_result"
    }
   ],
   "source": [
    "abcd.client"
   ]
  },
  {
   "cell_type": "code",
   "execution_count": 13,
   "metadata": {},
   "outputs": [
    {
     "data": {
      "text/plain": [
       "Database(MongoClient(host=['localhost:27017'], document_class=dict, tz_aware=False, connect=True), 'abcd')"
      ]
     },
     "execution_count": 13,
     "metadata": {},
     "output_type": "execute_result"
    }
   ],
   "source": [
    "abcd.db\n"
   ]
  },
  {
   "cell_type": "code",
   "execution_count": 16,
   "metadata": {},
   "outputs": [
    {
     "name": "stdout",
     "output_type": "stream",
     "text": [
      "MongoDatabase(url=localhost:27017, db=test, collection=atoms)\n"
     ]
    }
   ],
   "source": [
    "url = 'mongodb://localhost:27017/'\n",
    "abcd =  ABCD(url, db_name='test')\n",
    "\n",
    "print(abcd)"
   ]
  },
  {
   "cell_type": "code",
   "execution_count": 21,
   "metadata": {},
   "outputs": [
    {
     "name": "stdout",
     "output_type": "stream",
     "text": [
      "================== ABCD MongoDB ==================\n",
      "      type: mongodb\n",
      "      host: localhost\n",
      "      port: 27017\n",
      "        db: test\n",
      "collection: atoms\n",
      "number of confs: 14\n"
     ]
    }
   ],
   "source": [
    "abcd.print_info()"
   ]
  },
  {
   "cell_type": "markdown",
   "metadata": {},
   "source": [
    "## Cleanup \n",
    "\n",
    "WARNING!! Remove all elements from the database.\n",
    "Only supported in the case of local access"
   ]
  },
  {
   "cell_type": "code",
   "execution_count": 22,
   "metadata": {},
   "outputs": [],
   "source": [
    "with abcd as db:\n",
    "    db.destroy()"
   ]
  },
  {
   "cell_type": "markdown",
   "metadata": {},
   "source": [
    "## Uploading configurations"
   ]
  },
  {
   "cell_type": "code",
   "execution_count": 46,
   "metadata": {},
   "outputs": [],
   "source": [
    "\n",
    "\n",
    "direcotry = Path('data/')\n",
    "file = direcotry / 'bcc_bulk_54_expanded_2_high.xyz'\n",
    "# file = direcotry / 'GAP_1.xyz'"
   ]
  },
  {
   "cell_type": "markdown",
   "metadata": {},
   "source": [
    "Uploading configurations on-by-one directly from an ase atoms object:"
   ]
  },
  {
   "cell_type": "code",
   "execution_count": 47,
   "metadata": {},
   "outputs": [
    {
     "name": "stdout",
     "output_type": "stream",
     "text": [
      "CPU times: user 29.9 ms, sys: 2.09 ms, total: 32 ms\n",
      "Wall time: 38.9 ms\n"
     ]
    }
   ],
   "source": [
    "%%time\n",
    "with abcd as db:\n",
    "\n",
    "    for atoms in iread(file.as_posix(), index=slice(None)):\n",
    "        \n",
    "        # Hack to fix the representation of forces\n",
    "        \n",
    "        atoms.calc.results['forces'] = atoms.arrays['force']\n",
    "        del(atoms.arrays['force'])\n",
    "            \n",
    "        db.push(atoms)\n",
    "    "
   ]
  },
  {
   "cell_type": "markdown",
   "metadata": {},
   "source": [
    "Reading the trajectory from file:"
   ]
  },
  {
   "cell_type": "code",
   "execution_count": 48,
   "metadata": {},
   "outputs": [
    {
     "name": "stdout",
     "output_type": "stream",
     "text": [
      "CPU times: user 20.2 ms, sys: 3 ms, total: 23.2 ms\n",
      "Wall time: 23.8 ms\n"
     ]
    }
   ],
   "source": [
    "%%time\n",
    "traj = read(file.as_posix(), index=slice(None))\n",
    "len(traj)"
   ]
  },
  {
   "cell_type": "code",
   "execution_count": 49,
   "metadata": {},
   "outputs": [
    {
     "name": "stdout",
     "output_type": "stream",
     "text": [
      "CPU times: user 8.88 ms, sys: 1.52 ms, total: 10.4 ms\n",
      "Wall time: 9.74 ms\n"
     ]
    }
   ],
   "source": [
    "%%time\n",
    "with XYZReader(file) as reader:\n",
    "    traj = list(reader.read_atoms(forces_label='force'))\n"
   ]
  },
  {
   "cell_type": "markdown",
   "metadata": {},
   "source": [
    "Pushing the whole trajectory to the database:"
   ]
  },
  {
   "cell_type": "code",
   "execution_count": 50,
   "metadata": {},
   "outputs": [
    {
     "name": "stdout",
     "output_type": "stream",
     "text": [
      "CPU times: user 8.18 ms, sys: 788 µs, total: 8.97 ms\n",
      "Wall time: 10.2 ms\n"
     ]
    }
   ],
   "source": [
    "%%time\n",
    "db.push(traj)"
   ]
  },
  {
   "cell_type": "markdown",
   "metadata": {},
   "source": [
    "Uploading a whole file and injecting to the database on the server side:"
   ]
  },
  {
   "cell_type": "code",
   "execution_count": 51,
   "metadata": {},
   "outputs": [
    {
     "name": "stdout",
     "output_type": "stream",
     "text": [
      "CPU times: user 24.3 ms, sys: 4.64 ms, total: 28.9 ms\n",
      "Wall time: 28.9 ms\n"
     ]
    }
   ],
   "source": [
    "%%time\n",
    "with abcd as db:\n",
    "    db.upload(file.as_posix())"
   ]
  },
  {
   "cell_type": "markdown",
   "metadata": {},
   "source": [
    "An alternative way to upload file to database:"
   ]
  },
  {
   "cell_type": "code",
   "execution_count": 52,
   "metadata": {},
   "outputs": [
    {
     "name": "stdout",
     "output_type": "stream",
     "text": [
      "CPU times: user 18.7 ms, sys: 2.04 ms, total: 20.7 ms\n",
      "Wall time: 22.5 ms\n"
     ]
    }
   ],
   "source": [
    "%%time\n",
    "with abcd as db, XYZReader(file) as reader:\n",
    "    db.push(reader.read_atoms(forces_label='force'))"
   ]
  },
  {
   "cell_type": "code",
   "execution_count": 53,
   "metadata": {},
   "outputs": [
    {
     "data": {
      "text/plain": [
       "{'host': 'localhost',\n",
       " 'port': 27017,\n",
       " 'db': 'test',\n",
       " 'collection': 'atoms',\n",
       " 'number of confs': 224}"
      ]
     },
     "execution_count": 53,
     "metadata": {},
     "output_type": "execute_result"
    }
   ],
   "source": [
    "abcd.info()"
   ]
  },
  {
   "cell_type": "code",
   "execution_count": null,
   "metadata": {},
   "outputs": [],
   "source": []
  },
  {
   "cell_type": "code",
   "execution_count": null,
   "metadata": {
    "scrolled": false
   },
   "outputs": [],
   "source": []
  },
  {
   "cell_type": "markdown",
   "metadata": {},
   "source": [
    "## Uploading\n"
   ]
  },
  {
   "cell_type": "code",
   "execution_count": null,
   "metadata": {},
   "outputs": [],
   "source": [
    "for file in Path('data/').glob('*.xyz'):\n",
    "    print(file)\n",
    "#     with abcd as db, XYZReader(file) as reader:\n",
    "#         db.push(reader.read_atoms())\n",
    "        \n",
    "    traj = read(file.as_posix(), index=slice(None))\n",
    "    db.push(traj)"
   ]
  },
  {
   "cell_type": "code",
   "execution_count": null,
   "metadata": {
    "scrolled": false
   },
   "outputs": [],
   "source": [
    "for file in Path('GB_alphaFe_001/tilt/').glob('*.xyz'):\n",
    "    print(file)\n",
    "    gb_params = {\n",
    "        'name': 'alphaFe',\n",
    "        'type': 'tilt',\n",
    "        'params': file.name[:-4]\n",
    "        \n",
    "    }    \n",
    "\n",
    "    traj = read(file.as_posix(), index=slice(None))\n",
    "    db.push(traj, extra_info={'GB_params': gb_params})"
   ]
  },
  {
   "cell_type": "code",
   "execution_count": null,
   "metadata": {},
   "outputs": [],
   "source": [
    "#     with abcd as db, XYZReader(file) as reader:\n",
    "#         db.push(reader.read_atoms(), extra_info={'GB_params': gb_params})\n"
   ]
  },
  {
   "cell_type": "code",
   "execution_count": null,
   "metadata": {},
   "outputs": [],
   "source": []
  }
 ],
 "metadata": {
  "kernelspec": {
   "display_name": "Python 3",
   "language": "python",
   "name": "python3"
  },
  "language_info": {
   "codemirror_mode": {
    "name": "ipython",
    "version": 3
   },
   "file_extension": ".py",
   "mimetype": "text/x-python",
   "name": "python",
   "nbconvert_exporter": "python",
   "pygments_lexer": "ipython3",
   "version": "3.6.7"
  }
 },
 "nbformat": 4,
 "nbformat_minor": 2
}
