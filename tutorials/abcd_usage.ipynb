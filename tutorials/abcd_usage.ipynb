{
 "cells": [
  {
   "cell_type": "markdown",
   "metadata": {},
   "source": [
    "# Basic usage of ABCD database"
   ]
  },
  {
   "cell_type": "code",
   "execution_count": 1,
   "metadata": {},
   "outputs": [],
   "source": [
    "%load_ext autoreload\n",
    "%autoreload 2"
   ]
  },
  {
   "cell_type": "code",
   "execution_count": 2,
   "metadata": {
    "scrolled": true
   },
   "outputs": [],
   "source": [
    "import sys\n",
    "sys.path.append('..')"
   ]
  },
  {
   "cell_type": "code",
   "execution_count": 3,
   "metadata": {
    "scrolled": true
   },
   "outputs": [],
   "source": [
    "import matplotlib.pyplot as plt\n",
    "import numpy as np\n",
    "from collections import Counter\n",
    "\n",
    "from abcd import ABCD"
   ]
  },
  {
   "cell_type": "markdown",
   "metadata": {},
   "source": [
    "First of all, we need to define the url of the database. It could be local or remote:\n",
    "\n",
    "- direct access: url = 'mongodb://localhost:27017'\n",
    "- api access: url = 'http://localhost/api'"
   ]
  },
  {
   "cell_type": "code",
   "execution_count": null,
   "metadata": {},
   "outputs": [
    {
     "name": "stderr",
     "output_type": "stream",
     "text": [
      "[autoreload of _frozen_importlib failed: Traceback (most recent call last):\n",
      "  File \"/Users/fekad/.conda/envs/dev/lib/python3.6/site-packages/IPython/extensions/autoreload.py\", line 244, in check\n",
      "    superreload(m, reload, self.old_objects)\n",
      "  File \"/Users/fekad/.conda/envs/dev/lib/python3.6/site-packages/IPython/extensions/autoreload.py\", line 376, in superreload\n",
      "    module = reload(module)\n",
      "  File \"/Users/fekad/.conda/envs/dev/lib/python3.6/imp.py\", line 315, in reload\n",
      "    return importlib.reload(module)\n",
      "  File \"/Users/fekad/.conda/envs/dev/lib/python3.6/importlib/__init__.py\", line 165, in reload\n",
      "    spec = module.__spec__ = _bootstrap._find_spec(name, pkgpath, target)\n",
      "AttributeError: module 'importlib._bootstrap' has no attribute '_find_spec'\n",
      "]\n",
      "[autoreload of _frozen_importlib_external failed: Traceback (most recent call last):\n",
      "  File \"/Users/fekad/.conda/envs/dev/lib/python3.6/site-packages/IPython/extensions/autoreload.py\", line 244, in check\n",
      "    superreload(m, reload, self.old_objects)\n",
      "  File \"/Users/fekad/.conda/envs/dev/lib/python3.6/site-packages/IPython/extensions/autoreload.py\", line 376, in superreload\n",
      "    module = reload(module)\n",
      "  File \"/Users/fekad/.conda/envs/dev/lib/python3.6/imp.py\", line 315, in reload\n",
      "    return importlib.reload(module)\n",
      "  File \"/Users/fekad/.conda/envs/dev/lib/python3.6/importlib/__init__.py\", line 165, in reload\n",
      "    spec = module.__spec__ = _bootstrap._find_spec(name, pkgpath, target)\n",
      "  File \"<frozen importlib._bootstrap>\", line 894, in _find_spec\n",
      "  File \"<frozen importlib._bootstrap_external>\", line 1157, in find_spec\n",
      "  File \"<frozen importlib._bootstrap_external>\", line 1124, in _get_spec\n",
      "NameError: name 'isinstance' is not defined\n",
      "]\n",
      "[autoreload of _collections_abc failed: Traceback (most recent call last):\n",
      "  File \"/Users/fekad/.conda/envs/dev/lib/python3.6/site-packages/IPython/extensions/autoreload.py\", line 244, in check\n",
      "    superreload(m, reload, self.old_objects)\n",
      "  File \"/Users/fekad/.conda/envs/dev/lib/python3.6/site-packages/IPython/extensions/autoreload.py\", line 376, in superreload\n",
      "    module = reload(module)\n",
      "  File \"/Users/fekad/.conda/envs/dev/lib/python3.6/imp.py\", line 315, in reload\n",
      "    return importlib.reload(module)\n",
      "  File \"/Users/fekad/.conda/envs/dev/lib/python3.6/importlib/__init__.py\", line 147, in reload\n",
      "    raise ImportError(msg.format(name), name=name)\n",
      "ImportError: module collections.abc not in sys.modules\n",
      "]\n",
      "[autoreload of enum failed: Traceback (most recent call last):\n",
      "  File \"/Users/fekad/.conda/envs/dev/lib/python3.6/site-packages/IPython/extensions/autoreload.py\", line 244, in check\n",
      "    superreload(m, reload, self.old_objects)\n",
      "  File \"/Users/fekad/.conda/envs/dev/lib/python3.6/site-packages/IPython/extensions/autoreload.py\", line 392, in superreload\n",
      "    update_generic(old_obj, new_obj)\n",
      "  File \"/Users/fekad/.conda/envs/dev/lib/python3.6/site-packages/IPython/extensions/autoreload.py\", line 329, in update_generic\n",
      "    update(a, b)\n",
      "  File \"/Users/fekad/.conda/envs/dev/lib/python3.6/site-packages/IPython/extensions/autoreload.py\", line 274, in update_class\n",
      "    old_obj = getattr(old, key)\n",
      "  File \"/Users/fekad/.conda/envs/dev/lib/python3.6/enum.py\", line 326, in __getattr__\n",
      "    raise AttributeError(name) from None\n",
      "AttributeError: name\n",
      "]\n",
      "[autoreload of types failed: Traceback (most recent call last):\n",
      "  File \"/Users/fekad/.conda/envs/dev/lib/python3.6/site-packages/IPython/extensions/autoreload.py\", line 244, in check\n",
      "    superreload(m, reload, self.old_objects)\n",
      "  File \"/Users/fekad/.conda/envs/dev/lib/python3.6/site-packages/IPython/extensions/autoreload.py\", line 376, in superreload\n",
      "    module = reload(module)\n",
      "  File \"/Users/fekad/.conda/envs/dev/lib/python3.6/imp.py\", line 315, in reload\n",
      "    return importlib.reload(module)\n",
      "  File \"/Users/fekad/.conda/envs/dev/lib/python3.6/importlib/__init__.py\", line 138, in reload\n",
      "    if not module or not isinstance(module, types.ModuleType):\n",
      "AttributeError: module 'types' has no attribute 'ModuleType'\n",
      "]\n",
      "[autoreload of importlib failed: Traceback (most recent call last):\n",
      "  File \"/Users/fekad/.conda/envs/dev/lib/python3.6/site-packages/IPython/extensions/autoreload.py\", line 244, in check\n",
      "    superreload(m, reload, self.old_objects)\n",
      "  File \"/Users/fekad/.conda/envs/dev/lib/python3.6/site-packages/IPython/extensions/autoreload.py\", line 376, in superreload\n",
      "    module = reload(module)\n",
      "  File \"/Users/fekad/.conda/envs/dev/lib/python3.6/imp.py\", line 315, in reload\n",
      "    return importlib.reload(module)\n",
      "AttributeError: module 'importlib' has no attribute 'reload'\n",
      "]\n",
      "[autoreload of urllib.parse failed: Traceback (most recent call last):\n",
      "  File \"/Users/fekad/.conda/envs/dev/lib/python3.6/site-packages/IPython/extensions/autoreload.py\", line 244, in check\n",
      "    superreload(m, reload, self.old_objects)\n",
      "  File \"/Users/fekad/.conda/envs/dev/lib/python3.6/site-packages/IPython/extensions/autoreload.py\", line 392, in superreload\n",
      "    update_generic(old_obj, new_obj)\n",
      "  File \"/Users/fekad/.conda/envs/dev/lib/python3.6/site-packages/IPython/extensions/autoreload.py\", line 329, in update_generic\n",
      "    update(a, b)\n",
      "  File \"/Users/fekad/.conda/envs/dev/lib/python3.6/site-packages/IPython/extensions/autoreload.py\", line 287, in update_class\n",
      "    if update_generic(old_obj, new_obj): continue\n",
      "  File \"/Users/fekad/.conda/envs/dev/lib/python3.6/site-packages/IPython/extensions/autoreload.py\", line 329, in update_generic\n",
      "    update(a, b)\n",
      "  File \"/Users/fekad/.conda/envs/dev/lib/python3.6/site-packages/IPython/extensions/autoreload.py\", line 287, in update_class\n",
      "    if update_generic(old_obj, new_obj): continue\n",
      "  File \"/Users/fekad/.conda/envs/dev/lib/python3.6/site-packages/IPython/extensions/autoreload.py\", line 329, in update_generic\n",
      "    update(a, b)\n",
      "  File \"/Users/fekad/.conda/envs/dev/lib/python3.6/site-packages/IPython/extensions/autoreload.py\", line 287, in update_class\n",
      "    if update_generic(old_obj, new_obj): continue\n",
      "  File \"/Users/fekad/.conda/envs/dev/lib/python3.6/site-packages/IPython/extensions/autoreload.py\", line 329, in update_generic\n",
      "    update(a, b)\n",
      "  File \"/Users/fekad/.conda/envs/dev/lib/python3.6/site-packages/IPython/extensions/autoreload.py\", line 287, in update_class\n",
      "    if update_generic(old_obj, new_obj): continue\n",
      "RecursionError: maximum recursion depth exceeded\n",
      "]\n",
      "[autoreload of typing failed: Traceback (most recent call last):\n",
      "  File \"/Users/fekad/.conda/envs/dev/lib/python3.6/site-packages/IPython/extensions/autoreload.py\", line 244, in check\n",
      "    superreload(m, reload, self.old_objects)\n",
      "  File \"/Users/fekad/.conda/envs/dev/lib/python3.6/site-packages/IPython/extensions/autoreload.py\", line 376, in superreload\n",
      "    module = reload(module)\n",
      "  File \"/Users/fekad/.conda/envs/dev/lib/python3.6/imp.py\", line 315, in reload\n",
      "    return importlib.reload(module)\n",
      "  File \"/Users/fekad/.conda/envs/dev/lib/python3.6/importlib/__init__.py\", line 166, in reload\n",
      "    _bootstrap._exec(spec, module)\n",
      "  File \"<frozen importlib._bootstrap>\", line 618, in _exec\n",
      "  File \"<frozen importlib._bootstrap_external>\", line 678, in exec_module\n",
      "  File \"<frozen importlib._bootstrap>\", line 219, in _call_with_frames_removed\n",
      "  File \"/Users/fekad/.conda/envs/dev/lib/python3.6/typing.py\", line 10, in <module>\n",
      "    import collections.abc as collections_abc\n",
      "AttributeError: module 'collections' has no attribute 'abc'\n",
      "]\n",
      "[autoreload of asyncio.base_futures failed: Traceback (most recent call last):\n",
      "  File \"/Users/fekad/.conda/envs/dev/lib/python3.6/site-packages/IPython/extensions/autoreload.py\", line 244, in check\n",
      "    superreload(m, reload, self.old_objects)\n",
      "  File \"/Users/fekad/.conda/envs/dev/lib/python3.6/site-packages/IPython/extensions/autoreload.py\", line 376, in superreload\n",
      "    module = reload(module)\n",
      "  File \"/Users/fekad/.conda/envs/dev/lib/python3.6/imp.py\", line 315, in reload\n",
      "    return importlib.reload(module)\n",
      "  File \"/Users/fekad/.conda/envs/dev/lib/python3.6/importlib/__init__.py\", line 166, in reload\n",
      "    _bootstrap._exec(spec, module)\n",
      "  File \"<frozen importlib._bootstrap>\", line 618, in _exec\n",
      "  File \"<frozen importlib._bootstrap_external>\", line 678, in exec_module\n",
      "  File \"<frozen importlib._bootstrap>\", line 219, in _call_with_frames_removed\n",
      "  File \"/Users/fekad/.conda/envs/dev/lib/python3.6/asyncio/base_futures.py\", line 8, in <module>\n",
      "    Error = concurrent.futures._base.Error\n",
      "AttributeError: module 'concurrent' has no attribute 'futures'\n",
      "]\n",
      "[autoreload of asyncio.tasks failed: Traceback (most recent call last):\n",
      "  File \"/Users/fekad/.conda/envs/dev/lib/python3.6/site-packages/IPython/extensions/autoreload.py\", line 244, in check\n",
      "    superreload(m, reload, self.old_objects)\n",
      "  File \"/Users/fekad/.conda/envs/dev/lib/python3.6/site-packages/IPython/extensions/autoreload.py\", line 376, in superreload\n",
      "    module = reload(module)\n",
      "  File \"/Users/fekad/.conda/envs/dev/lib/python3.6/imp.py\", line 315, in reload\n",
      "    return importlib.reload(module)\n",
      "  File \"/Users/fekad/.conda/envs/dev/lib/python3.6/importlib/__init__.py\", line 166, in reload\n",
      "    _bootstrap._exec(spec, module)\n",
      "  File \"<frozen importlib._bootstrap>\", line 618, in _exec\n",
      "  File \"<frozen importlib._bootstrap_external>\", line 678, in exec_module\n",
      "  File \"<frozen importlib._bootstrap>\", line 219, in _call_with_frames_removed\n",
      "  File \"/Users/fekad/.conda/envs/dev/lib/python3.6/asyncio/tasks.py\", line 279, in <module>\n",
      "    FIRST_COMPLETED = concurrent.futures.FIRST_COMPLETED\n",
      "AttributeError: module 'concurrent' has no attribute 'futures'\n",
      "]\n",
      "[autoreload of ipaddress failed: Traceback (most recent call last):\n",
      "  File \"/Users/fekad/.conda/envs/dev/lib/python3.6/site-packages/IPython/extensions/autoreload.py\", line 244, in check\n",
      "    superreload(m, reload, self.old_objects)\n",
      "  File \"/Users/fekad/.conda/envs/dev/lib/python3.6/site-packages/IPython/extensions/autoreload.py\", line 392, in superreload\n",
      "    update_generic(old_obj, new_obj)\n",
      "  File \"/Users/fekad/.conda/envs/dev/lib/python3.6/site-packages/IPython/extensions/autoreload.py\", line 329, in update_generic\n",
      "    update(a, b)\n",
      "  File \"/Users/fekad/.conda/envs/dev/lib/python3.6/site-packages/IPython/extensions/autoreload.py\", line 287, in update_class\n",
      "    if update_generic(old_obj, new_obj): continue\n",
      "  File \"/Users/fekad/.conda/envs/dev/lib/python3.6/site-packages/IPython/extensions/autoreload.py\", line 329, in update_generic\n",
      "    update(a, b)\n",
      "  File \"/Users/fekad/.conda/envs/dev/lib/python3.6/site-packages/IPython/extensions/autoreload.py\", line 277, in update_class\n",
      "    if old_obj == new_obj:\n",
      "  File \"/Users/fekad/.conda/envs/dev/lib/python3.6/ipaddress.py\", line 662, in __eq__\n",
      "    self.network_address == other.network_address and\n",
      "  File \"/Users/fekad/.conda/envs/dev/lib/python3.6/ipaddress.py\", line 555, in __eq__\n",
      "    return (self._ip == other._ip\n",
      "TypeError: descriptor '_ip' for 'IPv4Address' objects doesn't apply to 'IPv4Address' object\n",
      "]\n",
      "[autoreload of sqlite3.dbapi2 failed: Traceback (most recent call last):\n",
      "  File \"/Users/fekad/.conda/envs/dev/lib/python3.6/site-packages/IPython/extensions/autoreload.py\", line 244, in check\n",
      "    superreload(m, reload, self.old_objects)\n",
      "  File \"/Users/fekad/.conda/envs/dev/lib/python3.6/site-packages/IPython/extensions/autoreload.py\", line 376, in superreload\n",
      "    module = reload(module)\n",
      "  File \"/Users/fekad/.conda/envs/dev/lib/python3.6/imp.py\", line 315, in reload\n",
      "    return importlib.reload(module)\n",
      "  File \"/Users/fekad/.conda/envs/dev/lib/python3.6/importlib/__init__.py\", line 166, in reload\n",
      "    _bootstrap._exec(spec, module)\n",
      "  File \"<frozen importlib._bootstrap>\", line 618, in _exec\n",
      "  File \"<frozen importlib._bootstrap_external>\", line 678, in exec_module\n",
      "  File \"<frozen importlib._bootstrap>\", line 219, in _call_with_frames_removed\n",
      "  File \"/Users/fekad/.conda/envs/dev/lib/python3.6/sqlite3/dbapi2.py\", line 54, in <module>\n",
      "    collections.abc.Sequence.register(Row)\n",
      "AttributeError: module 'collections' has no attribute 'abc'\n",
      "]\n",
      "[autoreload of xml.dom.minidom failed: Traceback (most recent call last):\n",
      "  File \"/Users/fekad/.conda/envs/dev/lib/python3.6/site-packages/IPython/extensions/autoreload.py\", line 244, in check\n",
      "    superreload(m, reload, self.old_objects)\n",
      "  File \"/Users/fekad/.conda/envs/dev/lib/python3.6/site-packages/IPython/extensions/autoreload.py\", line 376, in superreload\n",
      "    module = reload(module)\n",
      "  File \"/Users/fekad/.conda/envs/dev/lib/python3.6/imp.py\", line 315, in reload\n",
      "    return importlib.reload(module)\n",
      "  File \"/Users/fekad/.conda/envs/dev/lib/python3.6/importlib/__init__.py\", line 166, in reload\n",
      "    _bootstrap._exec(spec, module)\n",
      "  File \"<frozen importlib._bootstrap>\", line 618, in _exec\n",
      "  File \"<frozen importlib._bootstrap_external>\", line 678, in exec_module\n",
      "  File \"<frozen importlib._bootstrap>\", line 219, in _call_with_frames_removed\n",
      "  File \"/Users/fekad/.conda/envs/dev/lib/python3.6/xml/dom/minidom.py\", line 30, in <module>\n",
      "    _nodeTypes_with_children = (xml.dom.Node.ELEMENT_NODE,\n",
      "AttributeError: module 'xml' has no attribute 'dom'\n",
      "]\n",
      "[autoreload of http.client failed: Traceback (most recent call last):\n",
      "  File \"/Users/fekad/.conda/envs/dev/lib/python3.6/site-packages/IPython/extensions/autoreload.py\", line 244, in check\n",
      "    superreload(m, reload, self.old_objects)\n",
      "  File \"/Users/fekad/.conda/envs/dev/lib/python3.6/site-packages/IPython/extensions/autoreload.py\", line 376, in superreload\n",
      "    module = reload(module)\n",
      "  File \"/Users/fekad/.conda/envs/dev/lib/python3.6/imp.py\", line 315, in reload\n",
      "    return importlib.reload(module)\n",
      "  File \"/Users/fekad/.conda/envs/dev/lib/python3.6/importlib/__init__.py\", line 166, in reload\n",
      "    _bootstrap._exec(spec, module)\n",
      "  File \"<frozen importlib._bootstrap>\", line 618, in _exec\n",
      "  File \"<frozen importlib._bootstrap_external>\", line 678, in exec_module\n",
      "  File \"<frozen importlib._bootstrap>\", line 219, in _call_with_frames_removed\n",
      "  File \"/Users/fekad/.conda/envs/dev/lib/python3.6/http/client.py\", line 164, in <module>\n",
      "    class HTTPMessage(email.message.Message):\n",
      "AttributeError: module 'email' has no attribute 'message'\n",
      "]\n",
      "[autoreload of email.header failed: Traceback (most recent call last):\n",
      "  File \"/Users/fekad/.conda/envs/dev/lib/python3.6/site-packages/IPython/extensions/autoreload.py\", line 244, in check\n",
      "    superreload(m, reload, self.old_objects)\n",
      "  File \"/Users/fekad/.conda/envs/dev/lib/python3.6/site-packages/IPython/extensions/autoreload.py\", line 376, in superreload\n",
      "    module = reload(module)\n",
      "  File \"/Users/fekad/.conda/envs/dev/lib/python3.6/imp.py\", line 315, in reload\n",
      "    return importlib.reload(module)\n",
      "  File \"/Users/fekad/.conda/envs/dev/lib/python3.6/importlib/__init__.py\", line 166, in reload\n",
      "    _bootstrap._exec(spec, module)\n",
      "  File \"<frozen importlib._bootstrap>\", line 618, in _exec\n",
      "  File \"<frozen importlib._bootstrap_external>\", line 678, in exec_module\n",
      "  File \"<frozen importlib._bootstrap>\", line 219, in _call_with_frames_removed\n",
      "  File \"/Users/fekad/.conda/envs/dev/lib/python3.6/email/header.py\", line 57, in <module>\n",
      "    _max_append = email.quoprimime._max_append\n",
      "AttributeError: module 'email' has no attribute 'quoprimime'\n",
      "]\n",
      "[autoreload of urllib.error failed: Traceback (most recent call last):\n",
      "  File \"/Users/fekad/.conda/envs/dev/lib/python3.6/site-packages/IPython/extensions/autoreload.py\", line 244, in check\n",
      "    superreload(m, reload, self.old_objects)\n",
      "  File \"/Users/fekad/.conda/envs/dev/lib/python3.6/site-packages/IPython/extensions/autoreload.py\", line 376, in superreload\n",
      "    module = reload(module)\n",
      "  File \"/Users/fekad/.conda/envs/dev/lib/python3.6/imp.py\", line 315, in reload\n",
      "    return importlib.reload(module)\n",
      "  File \"/Users/fekad/.conda/envs/dev/lib/python3.6/importlib/__init__.py\", line 166, in reload\n",
      "    _bootstrap._exec(spec, module)\n",
      "  File \"<frozen importlib._bootstrap>\", line 618, in _exec\n",
      "  File \"<frozen importlib._bootstrap_external>\", line 678, in exec_module\n",
      "  File \"<frozen importlib._bootstrap>\", line 219, in _call_with_frames_removed\n",
      "  File \"/Users/fekad/.conda/envs/dev/lib/python3.6/urllib/error.py\", line 35, in <module>\n",
      "    class HTTPError(URLError, urllib.response.addinfourl):\n",
      "AttributeError: module 'urllib' has no attribute 'response'\n",
      "]\n",
      "[autoreload of ctypes failed: Traceback (most recent call last):\n",
      "  File \"/Users/fekad/.conda/envs/dev/lib/python3.6/site-packages/IPython/extensions/autoreload.py\", line 244, in check\n",
      "    superreload(m, reload, self.old_objects)\n",
      "  File \"/Users/fekad/.conda/envs/dev/lib/python3.6/site-packages/IPython/extensions/autoreload.py\", line 392, in superreload\n",
      "    update_generic(old_obj, new_obj)\n",
      "  File \"/Users/fekad/.conda/envs/dev/lib/python3.6/site-packages/IPython/extensions/autoreload.py\", line 329, in update_generic\n",
      "    update(a, b)\n",
      "  File \"/Users/fekad/.conda/envs/dev/lib/python3.6/site-packages/IPython/extensions/autoreload.py\", line 287, in update_class\n",
      "    if update_generic(old_obj, new_obj): continue\n",
      "  File \"/Users/fekad/.conda/envs/dev/lib/python3.6/site-packages/IPython/extensions/autoreload.py\", line 329, in update_generic\n",
      "    update(a, b)\n",
      "  File \"/Users/fekad/.conda/envs/dev/lib/python3.6/site-packages/IPython/extensions/autoreload.py\", line 287, in update_class\n",
      "    if update_generic(old_obj, new_obj): continue\n",
      "  File \"/Users/fekad/.conda/envs/dev/lib/python3.6/site-packages/IPython/extensions/autoreload.py\", line 329, in update_generic\n",
      "    update(a, b)\n",
      "  File \"/Users/fekad/.conda/envs/dev/lib/python3.6/site-packages/IPython/extensions/autoreload.py\", line 287, in update_class\n",
      "    if update_generic(old_obj, new_obj): continue\n",
      "  File \"/Users/fekad/.conda/envs/dev/lib/python3.6/site-packages/IPython/extensions/autoreload.py\", line 329, in update_generic\n",
      "    update(a, b)\n",
      "  File \"/Users/fekad/.conda/envs/dev/lib/python3.6/site-packages/IPython/extensions/autoreload.py\", line 287, in update_class\n",
      "    if update_generic(old_obj, new_obj): continue\n",
      "RecursionError: maximum recursion depth exceeded in comparison\n",
      "]\n",
      "[autoreload of imp failed: Traceback (most recent call last):\n",
      "  File \"/Users/fekad/.conda/envs/dev/lib/python3.6/site-packages/IPython/extensions/autoreload.py\", line 244, in check\n",
      "    superreload(m, reload, self.old_objects)\n",
      "  File \"/Users/fekad/.conda/envs/dev/lib/python3.6/site-packages/IPython/extensions/autoreload.py\", line 376, in superreload\n",
      "    module = reload(module)\n",
      "  File \"/Users/fekad/.conda/envs/dev/lib/python3.6/imp.py\", line 315, in reload\n",
      "    return importlib.reload(module)\n",
      "NameError: name 'importlib' is not defined\n",
      "]\n",
      "[autoreload of abcd_server failed: Traceback (most recent call last):\n",
      "  File \"/Users/fekad/.conda/envs/dev/lib/python3.6/site-packages/IPython/extensions/autoreload.py\", line 244, in check\n",
      "    superreload(m, reload, self.old_objects)\n",
      "  File \"/Users/fekad/.conda/envs/dev/lib/python3.6/site-packages/IPython/extensions/autoreload.py\", line 376, in superreload\n",
      "    module = reload(module)\n",
      "  File \"/Users/fekad/.conda/envs/dev/lib/python3.6/imp.py\", line 315, in reload\n",
      "    return importlib.reload(module)\n",
      "  File \"/Users/fekad/.conda/envs/dev/lib/python3.6/importlib/__init__.py\", line 166, in reload\n",
      "    _bootstrap._exec(spec, module)\n",
      "  File \"<frozen importlib._bootstrap>\", line 618, in _exec\n",
      "  File \"<frozen importlib._bootstrap_external>\", line 678, in exec_module\n",
      "  File \"<frozen importlib._bootstrap>\", line 219, in _call_with_frames_removed\n",
      "  File \"/Users/fekad/Work/abcd/abcd_server/__init__.py\", line 3, in <module>\n",
      "    app = create_app()\n",
      "  File \"/Users/fekad/Work/abcd/abcd_server/app/__init__.py\", line 47, in create_app\n",
      "    from abcd_server.app.views import api\n",
      "  File \"/Users/fekad/Work/abcd/abcd_server/app/views/api.py\", line 2, in <module>\n",
      "    from flask_graphql import GraphQLView\n",
      "AttributeError: module 'urllib' has no attribute 'request'\n",
      "]\n",
      "[autoreload of cryptography.x509 failed: Traceback (most recent call last):\n",
      "  File \"/Users/fekad/.conda/envs/dev/lib/python3.6/site-packages/IPython/extensions/autoreload.py\", line 244, in check\n",
      "    superreload(m, reload, self.old_objects)\n",
      "  File \"/Users/fekad/.conda/envs/dev/lib/python3.6/site-packages/IPython/extensions/autoreload.py\", line 376, in superreload\n",
      "    module = reload(module)\n",
      "  File \"/Users/fekad/.conda/envs/dev/lib/python3.6/imp.py\", line 315, in reload\n",
      "    return importlib.reload(module)\n",
      "  File \"/Users/fekad/.conda/envs/dev/lib/python3.6/importlib/__init__.py\", line 166, in reload\n",
      "    _bootstrap._exec(spec, module)\n",
      "  File \"<frozen importlib._bootstrap>\", line 618, in _exec\n",
      "  File \"<frozen importlib._bootstrap_external>\", line 678, in exec_module\n",
      "  File \"<frozen importlib._bootstrap>\", line 219, in _call_with_frames_removed\n",
      "  File \"/Users/fekad/.conda/envs/dev/lib/python3.6/site-packages/cryptography/x509/__init__.py\", line 17, in <module>\n",
      "    from cryptography.x509.extensions import (\n",
      "ImportError: cannot import name 'IssuingDistributionPoint'\n",
      "]\n",
      "[autoreload of cryptography.x509.extensions failed: Traceback (most recent call last):\n",
      "  File \"/Users/fekad/.conda/envs/dev/lib/python3.6/site-packages/IPython/extensions/autoreload.py\", line 244, in check\n",
      "    superreload(m, reload, self.old_objects)\n",
      "  File \"/Users/fekad/.conda/envs/dev/lib/python3.6/site-packages/IPython/extensions/autoreload.py\", line 376, in superreload\n",
      "    module = reload(module)\n",
      "  File \"/Users/fekad/.conda/envs/dev/lib/python3.6/imp.py\", line 315, in reload\n",
      "    return importlib.reload(module)\n",
      "  File \"/Users/fekad/.conda/envs/dev/lib/python3.6/importlib/__init__.py\", line 166, in reload\n",
      "    _bootstrap._exec(spec, module)\n",
      "  File \"<frozen importlib._bootstrap>\", line 618, in _exec\n",
      "  File \"<frozen importlib._bootstrap_external>\", line 678, in exec_module\n",
      "  File \"<frozen importlib._bootstrap>\", line 219, in _call_with_frames_removed\n",
      "  File \"/Users/fekad/.conda/envs/dev/lib/python3.6/site-packages/cryptography/x509/extensions.py\", line 26, in <module>\n",
      "    from cryptography.x509.oid import (\n",
      "ImportError: cannot import name 'OCSPExtensionOID'\n",
      "]\n",
      "[autoreload of cryptography.hazmat.backends.openssl.backend failed: Traceback (most recent call last):\n",
      "  File \"/Users/fekad/.conda/envs/dev/lib/python3.6/site-packages/IPython/extensions/autoreload.py\", line 244, in check\n",
      "    superreload(m, reload, self.old_objects)\n",
      "  File \"/Users/fekad/.conda/envs/dev/lib/python3.6/site-packages/IPython/extensions/autoreload.py\", line 376, in superreload\n",
      "    module = reload(module)\n",
      "  File \"/Users/fekad/.conda/envs/dev/lib/python3.6/imp.py\", line 315, in reload\n",
      "    return importlib.reload(module)\n",
      "  File \"/Users/fekad/.conda/envs/dev/lib/python3.6/importlib/__init__.py\", line 166, in reload\n",
      "    _bootstrap._exec(spec, module)\n",
      "  File \"<frozen importlib._bootstrap>\", line 618, in _exec\n",
      "  File \"<frozen importlib._bootstrap_external>\", line 678, in exec_module\n",
      "  File \"<frozen importlib._bootstrap>\", line 219, in _call_with_frames_removed\n",
      "  File \"/Users/fekad/.conda/envs/dev/lib/python3.6/site-packages/cryptography/hazmat/backends/openssl/backend.py\", line 40, in <module>\n",
      "    from cryptography.hazmat.backends.openssl.encode_asn1 import (\n",
      "ImportError: cannot import name '_OCSP_BASICRESP_EXTENSION_ENCODE_HANDLERS'\n",
      "]\n",
      "[autoreload of cryptography.hazmat.backends.openssl.ciphers failed: Traceback (most recent call last):\n",
      "  File \"/Users/fekad/.conda/envs/dev/lib/python3.6/site-packages/IPython/extensions/autoreload.py\", line 244, in check\n",
      "    superreload(m, reload, self.old_objects)\n",
      "  File \"/Users/fekad/.conda/envs/dev/lib/python3.6/site-packages/IPython/extensions/autoreload.py\", line 376, in superreload\n",
      "    module = reload(module)\n",
      "  File \"/Users/fekad/.conda/envs/dev/lib/python3.6/imp.py\", line 315, in reload\n",
      "    return importlib.reload(module)\n",
      "  File \"/Users/fekad/.conda/envs/dev/lib/python3.6/importlib/__init__.py\", line 166, in reload\n",
      "    _bootstrap._exec(spec, module)\n",
      "  File \"<frozen importlib._bootstrap>\", line 618, in _exec\n",
      "  File \"<frozen importlib._bootstrap_external>\", line 678, in exec_module\n",
      "  File \"<frozen importlib._bootstrap>\", line 219, in _call_with_frames_removed\n",
      "  File \"/Users/fekad/.conda/envs/dev/lib/python3.6/site-packages/cryptography/hazmat/backends/openssl/ciphers.py\", line 17, in <module>\n",
      "    class _CipherContext(object):\n",
      "  File \"/Users/fekad/.conda/envs/dev/lib/python3.6/site-packages/cryptography/utils.py\", line 47, in register_decorator\n",
      "    verify_interface(iface, klass)\n",
      "  File \"/Users/fekad/.conda/envs/dev/lib/python3.6/site-packages/cryptography/utils.py\", line 106, in verify_interface\n",
      "    sig = signature(getattr(iface, method))\n",
      "TypeError: <abc.abstractproperty object at 0x61ade9be8> is not a callable object\n",
      "]\n",
      "[autoreload of cryptography.hazmat.backends.openssl.dh failed: Traceback (most recent call last):\n",
      "  File \"/Users/fekad/.conda/envs/dev/lib/python3.6/site-packages/IPython/extensions/autoreload.py\", line 244, in check\n",
      "    superreload(m, reload, self.old_objects)\n",
      "  File \"/Users/fekad/.conda/envs/dev/lib/python3.6/site-packages/IPython/extensions/autoreload.py\", line 376, in superreload\n",
      "    module = reload(module)\n",
      "  File \"/Users/fekad/.conda/envs/dev/lib/python3.6/imp.py\", line 315, in reload\n",
      "    return importlib.reload(module)\n",
      "  File \"/Users/fekad/.conda/envs/dev/lib/python3.6/importlib/__init__.py\", line 166, in reload\n",
      "    _bootstrap._exec(spec, module)\n",
      "  File \"<frozen importlib._bootstrap>\", line 618, in _exec\n",
      "  File \"<frozen importlib._bootstrap_external>\", line 678, in exec_module\n",
      "  File \"<frozen importlib._bootstrap>\", line 219, in _call_with_frames_removed\n",
      "  File \"/Users/fekad/.conda/envs/dev/lib/python3.6/site-packages/cryptography/hazmat/backends/openssl/dh.py\", line 107, in <module>\n",
      "    class _DHPrivateKey(object):\n",
      "  File \"/Users/fekad/.conda/envs/dev/lib/python3.6/site-packages/cryptography/utils.py\", line 47, in register_decorator\n",
      "    verify_interface(iface, klass)\n",
      "  File \"/Users/fekad/.conda/envs/dev/lib/python3.6/site-packages/cryptography/utils.py\", line 106, in verify_interface\n",
      "    sig = signature(getattr(iface, method))\n",
      "TypeError: <abc.abstractproperty object at 0x61ae1e2e8> is not a callable object\n",
      "]\n",
      "[autoreload of cryptography.hazmat.backends.openssl.x25519 failed: Traceback (most recent call last):\n",
      "  File \"/Users/fekad/.conda/envs/dev/lib/python3.6/site-packages/IPython/extensions/autoreload.py\", line 244, in check\n",
      "    superreload(m, reload, self.old_objects)\n",
      "  File \"/Users/fekad/.conda/envs/dev/lib/python3.6/site-packages/IPython/extensions/autoreload.py\", line 376, in superreload\n",
      "    module = reload(module)\n",
      "  File \"/Users/fekad/.conda/envs/dev/lib/python3.6/imp.py\", line 315, in reload\n",
      "    return importlib.reload(module)\n",
      "  File \"/Users/fekad/.conda/envs/dev/lib/python3.6/importlib/__init__.py\", line 166, in reload\n",
      "    _bootstrap._exec(spec, module)\n",
      "  File \"<frozen importlib._bootstrap>\", line 618, in _exec\n",
      "  File \"<frozen importlib._bootstrap_external>\", line 678, in exec_module\n",
      "  File \"<frozen importlib._bootstrap>\", line 219, in _call_with_frames_removed\n",
      "  File \"/Users/fekad/.conda/envs/dev/lib/python3.6/site-packages/cryptography/hazmat/backends/openssl/x25519.py\", line 21, in <module>\n",
      "    class _X25519PublicKey(object):\n",
      "  File \"/Users/fekad/.conda/envs/dev/lib/python3.6/site-packages/cryptography/utils.py\", line 47, in register_decorator\n",
      "    verify_interface(iface, klass)\n",
      "  File \"/Users/fekad/.conda/envs/dev/lib/python3.6/site-packages/cryptography/utils.py\", line 112, in verify_interface\n",
      "    klass, method, sig, actual\n",
      "cryptography.utils.InterfaceNotImplemented: <class 'cryptography.hazmat.backends.openssl.x25519._X25519PublicKey'>.public_bytes's signature differs from the expected. Expected: <Signature (self)>. Received: <Signature (self, encoding=None, format=None)>\n",
      "]\n",
      "[autoreload of cryptography.hazmat.backends.openssl.x509 failed: Traceback (most recent call last):\n",
      "  File \"/Users/fekad/.conda/envs/dev/lib/python3.6/site-packages/IPython/extensions/autoreload.py\", line 244, in check\n",
      "    superreload(m, reload, self.old_objects)\n",
      "  File \"/Users/fekad/.conda/envs/dev/lib/python3.6/site-packages/IPython/extensions/autoreload.py\", line 376, in superreload\n",
      "    module = reload(module)\n",
      "  File \"/Users/fekad/.conda/envs/dev/lib/python3.6/imp.py\", line 315, in reload\n",
      "    return importlib.reload(module)\n",
      "  File \"/Users/fekad/.conda/envs/dev/lib/python3.6/importlib/__init__.py\", line 166, in reload\n",
      "    _bootstrap._exec(spec, module)\n",
      "  File \"<frozen importlib._bootstrap>\", line 618, in _exec\n",
      "  File \"<frozen importlib._bootstrap_external>\", line 678, in exec_module\n",
      "  File \"<frozen importlib._bootstrap>\", line 219, in _call_with_frames_removed\n",
      "  File \"/Users/fekad/.conda/envs/dev/lib/python3.6/site-packages/cryptography/hazmat/backends/openssl/x509.py\", line 27, in <module>\n",
      "    class _Certificate(object):\n",
      "  File \"/Users/fekad/.conda/envs/dev/lib/python3.6/site-packages/cryptography/utils.py\", line 47, in register_decorator\n",
      "    verify_interface(iface, klass)\n",
      "  File \"/Users/fekad/.conda/envs/dev/lib/python3.6/site-packages/cryptography/utils.py\", line 106, in verify_interface\n",
      "    sig = signature(getattr(iface, method))\n",
      "TypeError: <abc.abstractproperty object at 0x61aac7ac8> is not a callable object\n",
      "]\n",
      "[autoreload of cryptography.hazmat.primitives.ciphers.algorithms failed: Traceback (most recent call last):\n",
      "  File \"/Users/fekad/.conda/envs/dev/lib/python3.6/site-packages/IPython/extensions/autoreload.py\", line 244, in check\n",
      "    superreload(m, reload, self.old_objects)\n",
      "  File \"/Users/fekad/.conda/envs/dev/lib/python3.6/site-packages/IPython/extensions/autoreload.py\", line 376, in superreload\n",
      "    module = reload(module)\n",
      "  File \"/Users/fekad/.conda/envs/dev/lib/python3.6/imp.py\", line 315, in reload\n",
      "    return importlib.reload(module)\n",
      "  File \"/Users/fekad/.conda/envs/dev/lib/python3.6/importlib/__init__.py\", line 166, in reload\n",
      "    _bootstrap._exec(spec, module)\n",
      "  File \"<frozen importlib._bootstrap>\", line 618, in _exec\n",
      "  File \"<frozen importlib._bootstrap_external>\", line 678, in exec_module\n",
      "  File \"<frozen importlib._bootstrap>\", line 219, in _call_with_frames_removed\n",
      "  File \"/Users/fekad/.conda/envs/dev/lib/python3.6/site-packages/cryptography/hazmat/primitives/ciphers/algorithms.py\", line 28, in <module>\n",
      "    class AES(object):\n",
      "  File \"/Users/fekad/.conda/envs/dev/lib/python3.6/site-packages/cryptography/utils.py\", line 47, in register_decorator\n",
      "    verify_interface(iface, klass)\n",
      "  File \"/Users/fekad/.conda/envs/dev/lib/python3.6/site-packages/cryptography/utils.py\", line 106, in verify_interface\n",
      "    sig = signature(getattr(iface, method))\n",
      "TypeError: <abc.abstractproperty object at 0x61ade9828> is not a callable object\n",
      "]\n",
      "[autoreload of http.cookiejar failed: Traceback (most recent call last):\n",
      "  File \"/Users/fekad/.conda/envs/dev/lib/python3.6/site-packages/IPython/extensions/autoreload.py\", line 244, in check\n",
      "    superreload(m, reload, self.old_objects)\n",
      "  File \"/Users/fekad/.conda/envs/dev/lib/python3.6/site-packages/IPython/extensions/autoreload.py\", line 376, in superreload\n",
      "    module = reload(module)\n",
      "  File \"/Users/fekad/.conda/envs/dev/lib/python3.6/imp.py\", line 315, in reload\n",
      "    return importlib.reload(module)\n",
      "  File \"/Users/fekad/.conda/envs/dev/lib/python3.6/importlib/__init__.py\", line 166, in reload\n",
      "    _bootstrap._exec(spec, module)\n",
      "  File \"<frozen importlib._bootstrap>\", line 618, in _exec\n",
      "  File \"<frozen importlib._bootstrap_external>\", line 678, in exec_module\n",
      "  File \"<frozen importlib._bootstrap>\", line 219, in _call_with_frames_removed\n",
      "  File \"/Users/fekad/.conda/envs/dev/lib/python3.6/http/cookiejar.py\", line 56, in <module>\n",
      "    DEFAULT_HTTP_PORT = str(http.client.HTTP_PORT)\n",
      "AttributeError: module 'http' has no attribute 'client'\n",
      "]\n"
     ]
    },
    {
     "ename": "AttributeError",
     "evalue": "module 'linecache' has no attribute '_ipython_cache'",
     "output_type": "error",
     "traceback": [
      "\u001b[0;31m---------------------------------------------------------------------------\u001b[0m",
      "\u001b[0;31mAttributeError\u001b[0m                            Traceback (most recent call last)",
      "\u001b[0;32m~/.conda/envs/dev/lib/python3.6/site-packages/IPython/core/async_helpers.py\u001b[0m in \u001b[0;36m_pseudo_sync_runner\u001b[0;34m(coro)\u001b[0m\n\u001b[1;32m     65\u001b[0m     \"\"\"\n\u001b[1;32m     66\u001b[0m     \u001b[0;32mtry\u001b[0m\u001b[0;34m:\u001b[0m\u001b[0;34m\u001b[0m\u001b[0;34m\u001b[0m\u001b[0m\n\u001b[0;32m---> 67\u001b[0;31m         \u001b[0mcoro\u001b[0m\u001b[0;34m.\u001b[0m\u001b[0msend\u001b[0m\u001b[0;34m(\u001b[0m\u001b[0;32mNone\u001b[0m\u001b[0;34m)\u001b[0m\u001b[0;34m\u001b[0m\u001b[0;34m\u001b[0m\u001b[0m\n\u001b[0m\u001b[1;32m     68\u001b[0m     \u001b[0;32mexcept\u001b[0m \u001b[0mStopIteration\u001b[0m \u001b[0;32mas\u001b[0m \u001b[0mexc\u001b[0m\u001b[0;34m:\u001b[0m\u001b[0;34m\u001b[0m\u001b[0;34m\u001b[0m\u001b[0m\n\u001b[1;32m     69\u001b[0m         \u001b[0;32mreturn\u001b[0m \u001b[0mexc\u001b[0m\u001b[0;34m.\u001b[0m\u001b[0mvalue\u001b[0m\u001b[0;34m\u001b[0m\u001b[0;34m\u001b[0m\u001b[0m\n",
      "\u001b[0;32m~/.conda/envs/dev/lib/python3.6/site-packages/IPython/core/interactiveshell.py\u001b[0m in \u001b[0;36mrun_cell_async\u001b[0;34m(self, raw_cell, store_history, silent, shell_futures)\u001b[0m\n\u001b[1;32m   2965\u001b[0m \u001b[0;34m\u001b[0m\u001b[0m\n\u001b[1;32m   2966\u001b[0m         \u001b[0;32mwith\u001b[0m \u001b[0mself\u001b[0m\u001b[0;34m.\u001b[0m\u001b[0mbuiltin_trap\u001b[0m\u001b[0;34m:\u001b[0m\u001b[0;34m\u001b[0m\u001b[0;34m\u001b[0m\u001b[0m\n\u001b[0;32m-> 2967\u001b[0;31m             \u001b[0mcell_name\u001b[0m \u001b[0;34m=\u001b[0m \u001b[0mself\u001b[0m\u001b[0;34m.\u001b[0m\u001b[0mcompile\u001b[0m\u001b[0;34m.\u001b[0m\u001b[0mcache\u001b[0m\u001b[0;34m(\u001b[0m\u001b[0mcell\u001b[0m\u001b[0;34m,\u001b[0m \u001b[0mself\u001b[0m\u001b[0;34m.\u001b[0m\u001b[0mexecution_count\u001b[0m\u001b[0;34m)\u001b[0m\u001b[0;34m\u001b[0m\u001b[0;34m\u001b[0m\u001b[0m\n\u001b[0m\u001b[1;32m   2968\u001b[0m \u001b[0;34m\u001b[0m\u001b[0m\n\u001b[1;32m   2969\u001b[0m             \u001b[0;32mwith\u001b[0m \u001b[0mself\u001b[0m\u001b[0;34m.\u001b[0m\u001b[0mdisplay_trap\u001b[0m\u001b[0;34m:\u001b[0m\u001b[0;34m\u001b[0m\u001b[0;34m\u001b[0m\u001b[0m\n",
      "\u001b[0;32m~/.conda/envs/dev/lib/python3.6/site-packages/IPython/core/compilerop.py\u001b[0m in \u001b[0;36mcache\u001b[0;34m(self, code, number)\u001b[0m\n\u001b[1;32m    132\u001b[0m                  [line+'\\n' for line in code.splitlines()], name)\n\u001b[1;32m    133\u001b[0m         \u001b[0mlinecache\u001b[0m\u001b[0;34m.\u001b[0m\u001b[0mcache\u001b[0m\u001b[0;34m[\u001b[0m\u001b[0mname\u001b[0m\u001b[0;34m]\u001b[0m \u001b[0;34m=\u001b[0m \u001b[0mentry\u001b[0m\u001b[0;34m\u001b[0m\u001b[0;34m\u001b[0m\u001b[0m\n\u001b[0;32m--> 134\u001b[0;31m         \u001b[0mlinecache\u001b[0m\u001b[0;34m.\u001b[0m\u001b[0m_ipython_cache\u001b[0m\u001b[0;34m[\u001b[0m\u001b[0mname\u001b[0m\u001b[0;34m]\u001b[0m \u001b[0;34m=\u001b[0m \u001b[0mentry\u001b[0m\u001b[0;34m\u001b[0m\u001b[0;34m\u001b[0m\u001b[0m\n\u001b[0m\u001b[1;32m    135\u001b[0m         \u001b[0;32mreturn\u001b[0m \u001b[0mname\u001b[0m\u001b[0;34m\u001b[0m\u001b[0;34m\u001b[0m\u001b[0m\n\u001b[1;32m    136\u001b[0m \u001b[0;34m\u001b[0m\u001b[0m\n",
      "\u001b[0;31mAttributeError\u001b[0m: module 'linecache' has no attribute '_ipython_cache'"
     ]
    }
   ],
   "source": [
    "abcd = ABCD(url='mongodb://localhost:27017')\n",
    "print(abcd)"
   ]
  },
  {
   "cell_type": "markdown",
   "metadata": {},
   "source": [
    "Basic information about the database:"
   ]
  },
  {
   "cell_type": "code",
   "execution_count": 27,
   "metadata": {
    "scrolled": true
   },
   "outputs": [
    {
     "name": "stdout",
     "output_type": "stream",
     "text": [
      "================== ABCD MongoDB ==================\n",
      "      type: mongodb\n",
      "      host: localhost\n",
      "      port: 27017\n",
      "        db: abcd\n",
      "collection: atoms\n",
      "number of confs: 0\n"
     ]
    }
   ],
   "source": [
    "abcd.print_info()"
   ]
  },
  {
   "cell_type": "markdown",
   "metadata": {},
   "source": [
    "The data stored in the database:"
   ]
  },
  {
   "cell_type": "code",
   "execution_count": 28,
   "metadata": {
    "scrolled": false
   },
   "outputs": [],
   "source": [
    "# abcd.db.atoms.find_one()\n",
    "# abcd.db.atoms.find_one({ \"info.pbc\": [True, True, True] })"
   ]
  },
  {
   "cell_type": "markdown",
   "metadata": {},
   "source": [
    "## Discovery/Filtering"
   ]
  },
  {
   "cell_type": "markdown",
   "metadata": {},
   "source": [
    "### Available properties"
   ]
  },
  {
   "cell_type": "code",
   "execution_count": 29,
   "metadata": {},
   "outputs": [
    {
     "data": {
      "text/plain": [
       "{}"
      ]
     },
     "execution_count": 29,
     "metadata": {},
     "output_type": "execute_result"
    }
   ],
   "source": [
    "abcd.count_properties()['arrays']"
   ]
  },
  {
   "cell_type": "markdown",
   "metadata": {},
   "source": [
    "### Histogram"
   ]
  },
  {
   "cell_type": "code",
   "execution_count": 11,
   "metadata": {
    "scrolled": false
   },
   "outputs": [
    {
     "data": {
      "text/plain": [
       "Counter({'bcc_bulk_54_high': 24})"
      ]
     },
     "execution_count": 11,
     "metadata": {},
     "output_type": "execute_result"
    }
   ],
   "source": [
    "Counter(abcd.get_property('info.config_type'))"
   ]
  },
  {
   "cell_type": "code",
   "execution_count": 12,
   "metadata": {},
   "outputs": [
    {
     "data": {
      "text/plain": [
       "24"
      ]
     },
     "execution_count": 12,
     "metadata": {},
     "output_type": "execute_result"
    }
   ],
   "source": [
    "query = {\n",
    "    'info.config_type': 'bcc_bulk_54_high'\n",
    "}\n",
    "abcd.count(query)"
   ]
  },
  {
   "cell_type": "code",
   "execution_count": 13,
   "metadata": {
    "scrolled": true
   },
   "outputs": [
    {
     "data": {
      "text/plain": [
       "Counter({'bcc_bulk_54_expanded_2_0000': 10,\n",
       "         'bcc_bulk_54_expanded_2_0001': 1,\n",
       "         'bcc_bulk_54_expanded_2_0002': 1,\n",
       "         'bcc_bulk_54_expanded_2_0003': 1,\n",
       "         'bcc_bulk_54_expanded_2_0004': 1,\n",
       "         'bcc_bulk_54_expanded_2_0005': 1,\n",
       "         'bcc_bulk_54_expanded_2_0006': 1,\n",
       "         'bcc_bulk_54_expanded_2_0007': 1,\n",
       "         'bcc_bulk_54_expanded_2_0008': 1,\n",
       "         'bcc_bulk_54_expanded_2_0009': 1,\n",
       "         'bcc_bulk_54_expanded_2_0010': 1,\n",
       "         'bcc_bulk_54_expanded_2_0011': 1,\n",
       "         'bcc_bulk_54_expanded_2_0012': 1,\n",
       "         'bcc_bulk_54_expanded_2_0013': 2})"
      ]
     },
     "execution_count": 13,
     "metadata": {},
     "output_type": "execute_result"
    }
   ],
   "source": [
    "Counter(abcd.get_property('info.config_name', query))"
   ]
  },
  {
   "cell_type": "markdown",
   "metadata": {},
   "source": [
    "### Filtering"
   ]
  },
  {
   "cell_type": "code",
   "execution_count": 14,
   "metadata": {},
   "outputs": [
    {
     "data": {
      "text/plain": [
       "24"
      ]
     },
     "execution_count": 14,
     "metadata": {},
     "output_type": "execute_result"
    }
   ],
   "source": [
    "query = {\n",
    "    'info.config_type': 'bcc_bulk_54_high',\n",
    "    'info.pbc': [True, True, True]\n",
    "}\n",
    "\n",
    "abcd.count(query)"
   ]
  },
  {
   "cell_type": "code",
   "execution_count": 15,
   "metadata": {
    "scrolled": true
   },
   "outputs": [
    {
     "data": {
      "image/png": "[encoded data removed]",
      "text/plain": [
       "<Figure size 432x288 with 1 Axes>"
      ]
     },
     "metadata": {
      "needs_background": "light"
     },
     "output_type": "display_data"
    },
    {
     "data": {
      "text/plain": [
       "(-186887.19402, -186882.999145)"
      ]
     },
     "execution_count": 15,
     "metadata": {},
     "output_type": "execute_result"
    }
   ],
   "source": [
    "data = abcd.get_property('info.energy', query)\n",
    "hist, bins, ax = plt.hist(data)\n",
    "plt.show()\n",
    "min(data), max(data)"
   ]
  },
  {
   "cell_type": "code",
   "execution_count": 16,
   "metadata": {},
   "outputs": [
    {
     "data": {
      "text/plain": [
       "8"
      ]
     },
     "execution_count": 16,
     "metadata": {},
     "output_type": "execute_result"
    }
   ],
   "source": [
    "query = {\n",
    "    'info.config_type': 'bcc_bulk_54_high',\n",
    "    'info.energy': {'$gt': -186885.0},\n",
    "    'info.pbc': [True, True, True],\n",
    "}\n",
    "abcd.count(query)"
   ]
  },
  {
   "cell_type": "code",
   "execution_count": 17,
   "metadata": {},
   "outputs": [
    {
     "data": {
      "text/plain": [
       "{'force': {'count': 1},\n",
       " 'forces': {'count': 8},\n",
       " 'positions': {'count': 8},\n",
       " 'numbers': {'count': 8}}"
      ]
     },
     "execution_count": 17,
     "metadata": {},
     "output_type": "execute_result"
    }
   ],
   "source": [
    "abcd.count_properties(query)['arrays']"
   ]
  },
  {
   "cell_type": "markdown",
   "metadata": {},
   "source": [
    "## Fetching the data"
   ]
  },
  {
   "cell_type": "code",
   "execution_count": 18,
   "metadata": {},
   "outputs": [
    {
     "data": {
      "text/plain": [
       "1"
      ]
     },
     "execution_count": 18,
     "metadata": {},
     "output_type": "execute_result"
    }
   ],
   "source": [
    "query = {\n",
    "    'info.config_type': 'bcc_bulk_54_high',\n",
    "    'info.energy': {'$gt': -186885.0},\n",
    "    'info.pbc': [True, True, True],\n",
    "    'arrays.force': {'$exists': True}\n",
    "}\n",
    "abcd.count(query)"
   ]
  },
  {
   "cell_type": "code",
   "execution_count": 23,
   "metadata": {},
   "outputs": [],
   "source": [
    "traj = list(abcd.get_atoms(query))"
   ]
  },
  {
   "cell_type": "code",
   "execution_count": 24,
   "metadata": {
    "scrolled": false
   },
   "outputs": [
    {
     "data": {
      "text/plain": [
       "[Atoms(symbols='', pbc=False, _id=..., arrays=..., derived=..., info=...)]"
      ]
     },
     "execution_count": 24,
     "metadata": {},
     "output_type": "execute_result"
    }
   ],
   "source": [
    "traj"
   ]
  },
  {
   "cell_type": "markdown",
   "metadata": {},
   "source": [
    "## Extra"
   ]
  },
  {
   "cell_type": "code",
   "execution_count": 21,
   "metadata": {
    "scrolled": true
   },
   "outputs": [
    {
     "data": {
      "text/plain": [
       "0"
      ]
     },
     "execution_count": 21,
     "metadata": {},
     "output_type": "execute_result"
    }
   ],
   "source": [
    "abcd.db.atoms.count_documents({'arrays.numbers':{'$all': [26, 74]}})"
   ]
  },
  {
   "cell_type": "code",
   "execution_count": 22,
   "metadata": {},
   "outputs": [
    {
     "data": {
      "text/plain": [
       "24"
      ]
     },
     "execution_count": 22,
     "metadata": {},
     "output_type": "execute_result"
    }
   ],
   "source": [
    "abcd.db.atoms.count_documents({'arrays.numbers':{'$in': [26, 74]}})"
   ]
  },
  {
   "cell_type": "code",
   "execution_count": null,
   "metadata": {},
   "outputs": [],
   "source": []
  },
  {
   "cell_type": "code",
   "execution_count": null,
   "metadata": {},
   "outputs": [],
   "source": []
  }
 ],
 "metadata": {
  "kernelspec": {
   "display_name": "Python 3",
   "language": "python",
   "name": "python3"
  },
  "language_info": {
   "codemirror_mode": {
    "name": "ipython",
    "version": 3
   },
   "file_extension": ".py",
   "mimetype": "text/x-python",
   "name": "python",
   "nbconvert_exporter": "python",
   "pygments_lexer": "ipython3",
   "version": "3.6.8"
  }
 },
 "nbformat": 4,
 "nbformat_minor": 2
}
