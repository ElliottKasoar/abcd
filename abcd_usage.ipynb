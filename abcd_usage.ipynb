{
 "cells": [
  {
   "cell_type": "markdown",
   "metadata": {},
   "source": [
    "# Basic usage of ABCD database"
   ]
  },
  {
   "cell_type": "code",
   "execution_count": null,
   "metadata": {},
   "outputs": [],
   "source": [
    "%load_ext autoreload"
   ]
  },
  {
   "cell_type": "code",
   "execution_count": 2,
   "metadata": {
    "scrolled": true
   },
   "outputs": [],
   "source": [
    "%autoreload 2"
   ]
  },
  {
   "cell_type": "code",
   "execution_count": 3,
   "metadata": {},
   "outputs": [],
   "source": [
    "from abcd import ABCD"
   ]
  },
  {
   "cell_type": "markdown",
   "metadata": {},
   "source": [
    "First of all, we need to define the url of the database. It could be local or remote:\n",
    "\n",
    "- direct access: url = 'mongodb://localhost:27017'\n",
    "- api access: url = 'http://localhost/api'\n",
    "\n",
    "using with statement to catch the riased exceptions. You may can ignore them  but in that case need to handle all the unexpected events. (cannot connect to db, lost connection, wrong filter, wrong url, etc. )"
   ]
  },
  {
   "cell_type": "code",
   "execution_count": 4,
   "metadata": {},
   "outputs": [
    {
     "name": "stdout",
     "output_type": "stream",
     "text": [
      "MongoDatabase(url=localhost:27017, db=abcd, collection=atoms)\n"
     ]
    },
    {
     "data": {
      "text/html": [
       "<b>ABCD MongoDB database</b>"
      ],
      "text/plain": [
       "MongoDatabase(url=localhost:27017, db=abcd, collection=atoms)"
      ]
     },
     "execution_count": 4,
     "metadata": {},
     "output_type": "execute_result"
    }
   ],
   "source": [
    "url = 'mongodb://localhost:27017'\n",
    "# url = 'http://localhost:5000/api'\n",
    "abcd =  ABCD(url)\n",
    "\n",
    "print(abcd)\n",
    "abcd"
   ]
  },
  {
   "cell_type": "code",
   "execution_count": 13,
   "metadata": {},
   "outputs": [
    {
     "name": "stdout",
     "output_type": "stream",
     "text": [
      "================== ABCD MongoDB ==================\n",
      "      type: mongodb\n",
      "      host: localhost\n",
      "      port: 27017\n",
      "        db: abcd\n",
      "collection: atoms\n",
      "number of confs: 9707\n"
     ]
    }
   ],
   "source": [
    "abcd.print_info()"
   ]
  },
  {
   "cell_type": "markdown",
   "metadata": {},
   "source": [
    "## Cleanup \n",
    "\n",
    "WARNING!! Remove all elements from the database.\n",
    "Only supported in the case of local access"
   ]
  },
  {
   "cell_type": "code",
   "execution_count": 6,
   "metadata": {},
   "outputs": [],
   "source": [
    "with abcd as db:\n",
    "    db.destroy()"
   ]
  },
  {
   "cell_type": "markdown",
   "metadata": {},
   "source": [
    "## Uploading configurations"
   ]
  },
  {
   "cell_type": "code",
   "execution_count": 11,
   "metadata": {},
   "outputs": [],
   "source": [
    "from ase.io import iread\n",
    "from pathlib import Path\n",
    "\n",
    "direcotry = Path('utils/data/')\n",
    "file = direcotry / 'bcc_bulk_54_expanded_2_high.xyz'\n",
    "file = direcotry / 'GAP_6.xyz'"
   ]
  },
  {
   "cell_type": "markdown",
   "metadata": {},
   "source": [
    "Uploading configurations on-by-one directly from an ase atoms object:"
   ]
  },
  {
   "cell_type": "code",
   "execution_count": 16,
   "metadata": {},
   "outputs": [],
   "source": [
    "with abcd as db:\n",
    "\n",
    "    for atoms in iread(file.as_posix(), index=slice(None)):\n",
    "        \n",
    "        # Hack to fix the representation of forces\n",
    "        atoms.calc.results['forces'] = atoms.arrays['force']\n",
    "        atoms.arrays['force'] = None\n",
    "            \n",
    "#         print(atoms)\n",
    "        db.push(atoms)"
   ]
  },
  {
   "cell_type": "markdown",
   "metadata": {},
   "source": [
    "Uploading the whole file and injecting to the database on the server side:"
   ]
  },
  {
   "cell_type": "code",
   "execution_count": null,
   "metadata": {},
   "outputs": [],
   "source": [
    "with abcd as db:\n",
    "    db.upload(file)"
   ]
  },
  {
   "cell_type": "code",
   "execution_count": null,
   "metadata": {},
   "outputs": [],
   "source": [
    "print(abcd.info())"
   ]
  },
  {
   "cell_type": "markdown",
   "metadata": {},
   "source": [
    "## Query data from the database\n",
    "\n",
    "The key component is the query string which implementation is based on the GraphQl specification\n",
    "\n",
    "- query all\n",
    "- query atoms\n",
    "- query properties\n",
    "\n",
    "- histograms/summaries?"
   ]
  },
  {
   "cell_type": "code",
   "execution_count": null,
   "metadata": {},
   "outputs": [],
   "source": [
    "query = {\n",
    "    'elements': ['Fe', 'H'],\n",
    "}\n",
    "\n",
    "with abcd as db:\n",
    "    traj = [atoms for atoms in db.pull(query)]\n",
    "    \n",
    "print(traj)"
   ]
  },
  {
   "cell_type": "markdown",
   "metadata": {},
   "source": [
    "Query specific properties (like all energies of filetered atoms):"
   ]
  },
  {
   "cell_type": "code",
   "execution_count": null,
   "metadata": {},
   "outputs": [],
   "source": [
    "query = {\n",
    "    'filter': { \n",
    "        elements: ['Fe', 'H'],\n",
    "    },\n",
    "    'fields': [\n",
    "        'energy',\n",
    "    ]\n",
    "}\n",
    "\n",
    "with abcd as db:\n",
    "    data = db.query(query)\n",
    "    \n",
    "print(data)"
   ]
  },
  {
   "cell_type": "markdown",
   "metadata": {},
   "source": [
    "## Download the whole database"
   ]
  },
  {
   "cell_type": "markdown",
   "metadata": {},
   "source": [
    "Download the whole database "
   ]
  },
  {
   "cell_type": "code",
   "execution_count": null,
   "metadata": {},
   "outputs": [],
   "source": [
    "with open('dump.db') as file:\n",
    "    with abcd as db:\n",
    "        db.download(file)"
   ]
  },
  {
   "cell_type": "markdown",
   "metadata": {},
   "source": [
    "## Linking databases\n",
    "\n",
    "Pull the data from one into another. This function is usefull when you want to build a local database by fetching the data from another repositories."
   ]
  },
  {
   "cell_type": "code",
   "execution_count": null,
   "metadata": {},
   "outputs": [],
   "source": [
    "with abcd as db:\n",
    "    db.fetch_from(url='...', query = {})"
   ]
  },
  {
   "cell_type": "code",
   "execution_count": null,
   "metadata": {},
   "outputs": [],
   "source": [
    "print(abcd.info())"
   ]
  },
  {
   "cell_type": "markdown",
   "metadata": {},
   "source": [
    "## Command line interface"
   ]
  },
  {
   "cell_type": "code",
   "execution_count": null,
   "metadata": {},
   "outputs": [],
   "source": [
    "!abcd --help"
   ]
  },
  {
   "cell_type": "code",
   "execution_count": null,
   "metadata": {},
   "outputs": [],
   "source": [
    "!abcd connect/login "
   ]
  },
  {
   "cell_type": "code",
   "execution_count": null,
   "metadata": {},
   "outputs": [],
   "source": [
    "!abcd info"
   ]
  },
  {
   "cell_type": "code",
   "execution_count": null,
   "metadata": {},
   "outputs": [],
   "source": [
    "!abcd push --help"
   ]
  },
  {
   "cell_type": "code",
   "execution_count": null,
   "metadata": {},
   "outputs": [],
   "source": [
    "!abcd pull --help"
   ]
  },
  {
   "cell_type": "code",
   "execution_count": null,
   "metadata": {},
   "outputs": [],
   "source": [
    "!abcd query --help"
   ]
  },
  {
   "cell_type": "code",
   "execution_count": null,
   "metadata": {},
   "outputs": [],
   "source": [
    "!abcd download --help"
   ]
  },
  {
   "cell_type": "code",
   "execution_count": null,
   "metadata": {},
   "outputs": [],
   "source": [
    "# search? it is a specific query which returns with the ids only."
   ]
  },
  {
   "cell_type": "markdown",
   "metadata": {},
   "source": [
    "# Web interface\n",
    "\n",
    "flask web server\n"
   ]
  },
  {
   "cell_type": "code",
   "execution_count": null,
   "metadata": {},
   "outputs": [],
   "source": []
  }
 ],
 "metadata": {
  "kernelspec": {
   "display_name": "Python 3",
   "language": "python",
   "name": "python3"
  },
  "language_info": {
   "codemirror_mode": {
    "name": "ipython",
    "version": 3
   },
   "file_extension": ".py",
   "mimetype": "text/x-python",
   "name": "python",
   "nbconvert_exporter": "python",
   "pygments_lexer": "ipython3",
   "version": "3.6.7"
  }
 },
 "nbformat": 4,
 "nbformat_minor": 2
}
